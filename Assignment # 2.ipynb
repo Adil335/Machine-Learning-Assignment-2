{
 "cells": [
  {
   "cell_type": "code",
   "execution_count": 1,
   "metadata": {
    "colab": {
     "base_uri": "https://localhost:8080/"
    },
    "id": "jg6Q_nBXnxPm",
    "outputId": "278620fb-7885-481a-ddf9-d92e602bd40b"
   },
   "outputs": [
    {
     "name": "stdout",
     "output_type": "stream",
     "text": [
      "Mounted at /content/drive\n"
     ]
    }
   ],
   "source": [
    "from google.colab import drive\n",
    "drive.mount('/content/drive')"
   ]
  },
  {
   "cell_type": "code",
   "execution_count": 2,
   "metadata": {
    "colab": {
     "base_uri": "https://localhost:8080/"
    },
    "id": "VjmV_vVRn26x",
    "outputId": "5975309d-2f20-4541-f9d6-9cf65155d00a"
   },
   "outputs": [
    {
     "name": "stdout",
     "output_type": "stream",
     "text": [
      "      0     1     2     3      4      5     6     7     8      9     ...  \\\n",
      "0  0.00632  18.0  2.31     0  0.538  6.575  65.2  4.09     1  296.0  ...   \n",
      "\n",
      "    7074  7075  7076   7077  7078   7079  7080   7081  7082  7083  \n",
      "0  0.573  6.03  80.8  2.505     1  273.0  21.0  396.9  7.88  11.9  \n",
      "\n",
      "[1 rows x 7084 columns]\n",
      "(506, 13)\n",
      "(506,)\n"
     ]
    },
    {
     "data": {
      "text/plain": [
       "array([[-0.41978194,  0.28482986, -1.2879095 , ..., -1.45900038,\n",
       "         0.44105193, -1.0755623 ],\n",
       "       [-0.41733926, -0.48772236, -0.59338101, ..., -0.30309415,\n",
       "         0.44105193, -0.49243937],\n",
       "       [-0.41734159, -0.48772236, -0.59338101, ..., -0.30309415,\n",
       "         0.39642699, -1.2087274 ],\n",
       "       ...,\n",
       "       [-0.41344658, -0.48772236,  0.11573841, ...,  1.17646583,\n",
       "         0.44105193, -0.98304761],\n",
       "       [-0.40776407, -0.48772236,  0.11573841, ...,  1.17646583,\n",
       "         0.4032249 , -0.86530163],\n",
       "       [-0.41500016, -0.48772236,  0.11573841, ...,  1.17646583,\n",
       "         0.44105193, -0.66905833]])"
      ]
     },
     "execution_count": 2,
     "metadata": {},
     "output_type": "execute_result"
    }
   ],
   "source": [
    "import pandas as pd\n",
    "import numpy as np\n",
    "\n",
    "# raw_data = pd.read_csv('/content/drive/My Drive/Colab_Notebooks/boston.csv', header=None)\n",
    "raw_data = pd.read_csv('/content/drive/My Drive/Colab Notebooks/boston.csv',header=None)\n",
    "\n",
    "data_rows = np.reshape(raw_data.to_numpy(), (506,14))\n",
    "data = data_rows[:,:13]\n",
    "target = data_rows[:,13]\n",
    "\n",
    "# normalize input features to zero-mean and unit-variance\n",
    "data = (data-np.mean(data, axis=0))/np.std(data, axis=0) \n",
    "print(raw_data)\n",
    "\n",
    "print(data.shape)\n",
    "print(target.shape)\n",
    "data"
   ]
  },
  {
   "cell_type": "markdown",
   "metadata": {
    "id": "YyZnqreXqzgZ"
   },
   "source": [
    "# Closed form of ridge regression. Example # 1"
   ]
  },
  {
   "cell_type": "code",
   "execution_count": 3,
   "metadata": {
    "colab": {
     "base_uri": "https://localhost:8080/"
    },
    "id": "JnacOKgpoBrZ",
    "outputId": "b6d0bdcc-7e64-4982-b1a0-12ed5cbc8b8e"
   },
   "outputs": [
    {
     "name": "stdout",
     "output_type": "stream",
     "text": [
      "506 14\n",
      "mean square error for the closed-form solution: 21.898\n"
     ]
    }
   ],
   "source": [
    "def closed_form_reg_solution(X,y,lamda): \n",
    "    '''Closed form solution for ridge regression'''\n",
    "    m,n = X.shape\n",
    "    print(m,n)\n",
    "    I = np.eye((n))\n",
    "    inr=np.linalg.inv(X.T @ X + lamda * I)@ X.T @ y\n",
    "    return inr\n",
    "    # return (inr @ X.T @ y)[:,0]\n",
    "data_wb = np.hstack((data, np.ones((data.shape[0], 1), dtype=data.dtype)))\n",
    "lamda=1\n",
    "sol=closed_form_reg_solution(data_wb,target,lamda)   \n",
    "sol \n",
    "predict = data_wb @ sol \n",
    "error = (np.sum((predict - target)*(predict - target)))/data.shape[0] \n",
    "\n",
    "# error=error + lamda*sol\n",
    "print(f'mean square error for the closed-form solution: {error:.3f}')"
   ]
  },
  {
   "cell_type": "markdown",
   "metadata": {
    "id": "-26fxg3-ESRX"
   },
   "source": [
    "# closed from linear regression"
   ]
  },
  {
   "cell_type": "code",
   "execution_count": 4,
   "metadata": {
    "colab": {
     "base_uri": "https://localhost:8080/"
    },
    "id": "dyvoX7bjD-o-",
    "outputId": "b6b0a4d7-6d79-4298-c67e-77d4c7173847"
   },
   "outputs": [
    {
     "name": "stdout",
     "output_type": "stream",
     "text": [
      "[-9.28146064e-01  1.08156863e+00  1.40899997e-01  6.81739725e-01\n",
      " -2.05671827e+00  2.67423017e+00  1.94660717e-02 -3.10404426e+00\n",
      "  2.66221764e+00 -2.07678168e+00 -2.06060666e+00  8.49268418e-01\n",
      " -3.74362713e+00  2.25328063e+01]\n",
      "mean square error for the closed-form solution: 21.895\n"
     ]
    }
   ],
   "source": [
    "data_wb = np.hstack((data, np.ones((data.shape[0], 1), dtype=data.dtype)))\n",
    "\n",
    "\n",
    "\n",
    "# refer to the closed-form solution\n",
    "w = np.linalg.inv(data_wb.T @ data_wb) @ data_wb.T @ target\n",
    "print(w)\n",
    "# calculate the mean square error in the training set\n",
    "predict = data_wb @ w \n",
    "error = np.sum((predict - target)*(predict - target))/data.shape[0]\n",
    "\n",
    "print(f'mean square error for the closed-form solution: {error:.3f}')"
   ]
  },
  {
   "cell_type": "markdown",
   "metadata": {
    "id": "T5LCa5izEYuC"
   },
   "source": [
    "# Gradient descent linear regeression"
   ]
  },
  {
   "cell_type": "code",
   "execution_count": 5,
   "metadata": {
    "id": "AjHJwg1yEX-Y"
   },
   "outputs": [],
   "source": [
    "# solve linear regression using gradient descent \n",
    "import numpy as np\n",
    "\n",
    "class Optimizer():\n",
    "  def __init__(self, lr, annealing_rate, batch_size, max_epochs):\n",
    "    self.lr = lr\n",
    "    self.annealing_rate = annealing_rate\n",
    "    self.batch_size = batch_size\n",
    "    self.max_epochs = max_epochs\n",
    "\n",
    "# X[N,d]: input features; y[N]: output targets; op: hyper-parameters for optimzer \n",
    "def linear_regression_gd(X, y, op):\n",
    "  n = X.shape[0]   # number of samples\n",
    "  w = np.zeros(X.shape[1])  # initialization\n",
    "\n",
    "  lr = op.lr\n",
    "  errors = np.zeros(op.max_epochs)\n",
    "  for epoch in range(op.max_epochs):\n",
    "    indices = np.random.permutation(n)  #randomly shuffle data indices\n",
    "    for batch_start in range(0, n, op.batch_size):\n",
    "      X_batch = X[indices[batch_start:batch_start + op.batch_size]]\n",
    "      y_batch = y[indices[batch_start:batch_start + op.batch_size]]\n",
    "\n",
    "      # vectorization to compute gradients for a whole mini-batch (see the above formula)\n",
    "      w_grad = X_batch.T @ X_batch @ w - X_batch.T @ y_batch \n",
    "\n",
    "      w -= lr * w_grad / X_batch.shape[0]\n",
    "\n",
    "    diff = X @ w - y  # prediction difference\n",
    "    errors[epoch] = np.sum(diff*diff)/n\n",
    "    lr *= op.annealing_rate\n",
    "    #print(f'epoch={epoch}: the mean square error is {errors[epoch]}')\n",
    "\n",
    "  return w, errors"
   ]
  },
  {
   "cell_type": "code",
   "execution_count": 6,
   "metadata": {
    "colab": {
     "base_uri": "https://localhost:8080/",
     "height": 312
    },
    "id": "IlfESiRXrvzy",
    "outputId": "f8c65ff3-3d8e-4d7c-cea9-1555f0d8b625"
   },
   "outputs": [
    {
     "data": {
      "text/plain": [
       "<matplotlib.legend.Legend at 0x7fe5b477ad50>"
      ]
     },
     "execution_count": 6,
     "metadata": {},
     "output_type": "execute_result"
    },
    {
     "data": {
      "image/png": "[encoded data removed]",
      "text/plain": [
       "<Figure size 432x288 with 1 Axes>"
      ]
     },
     "metadata": {
      "needs_background": "light"
     },
     "output_type": "display_data"
    }
   ],
   "source": [
    "import matplotlib.pyplot as plt\n",
    "\n",
    "op = Optimizer(lr=0.001, annealing_rate=0.99, batch_size=2, max_epochs=100)\n",
    "\n",
    "w, errors = linear_regression_gd(data_wb, target, op)\n",
    "\n",
    "plt.title('use a small mini-batch; converging quicklly and nicely to the optimum')\n",
    "plt.xlabel('number of epoches')\n",
    "plt.plot(errors, 'b', 21.89*np.ones(errors.shape[0]), 'c--')\n",
    "plt.legend(['gradient descent', 'closed-form solution'])"
   ]
  },
  {
   "cell_type": "markdown",
   "metadata": {
    "id": "ieMk0N4H-eOJ"
   },
   "source": [
    "## Ridge gradien descent"
   ]
  },
  {
   "cell_type": "code",
   "execution_count": 7,
   "metadata": {
    "id": "ed6BLrnsG9_b"
   },
   "outputs": [],
   "source": [
    "import numpy as np\n",
    "\n",
    "class Optimizer():\n",
    "  def __init__(self, lr, annealing_rate, batch_size, max_epochs,lambdaa):\n",
    "    self.lr = lr\n",
    "    self.annealing_rate = annealing_rate\n",
    "    self.batch_size = batch_size\n",
    "    self.max_epochs = max_epochs\n",
    "    self.lambdaa=lambdaa\n",
    "\n",
    "# X[N,d]: input features; y[N]: output targets; op: hyper-parameters for optimzer \n",
    "def linear_regression_gd(X, y, op):\n",
    "  n = X.shape[0]   # number of samples\n",
    "  w = np.zeros(X.shape[1])  # initialization\n",
    "  \n",
    "  lr = op.lr\n",
    "  lambdaa=op.lambdaa\n",
    "  lam=np.ones(14)*10\n",
    "  print(lam)\n",
    "  errors = np.zeros(op.max_epochs)\n",
    "  for epoch in range(op.max_epochs):\n",
    "    indices = np.random.permutation(n)  #randomly shuffle data indices\n",
    "    for batch_start in range(0, n, op.batch_size):\n",
    "      X_batch = X[indices[batch_start:batch_start + op.batch_size]]\n",
    "      y_batch = y[indices[batch_start:batch_start + op.batch_size]]\n",
    "    \n",
    "      # vectorization to compute gradients for a whole mini-batch (see the above formula)\n",
    "      w_grad = X_batch.T @  X_batch @ w -  X_batch.T  @  y_batch - w*lambdaa\n",
    "      # np.dot(w,lambaa)\n",
    "\n",
    "      w -= lr * w_grad / X_batch.shape[0]\n",
    "\n",
    "    diff = X @ w - y  # prediction difference\n",
    "    errors[epoch] = np.sum(diff*diff)/n\n",
    "    lr *= op.annealing_rate\n",
    "    #print(f'epoch={epoch}: the mean square error is {errors[epoch]}')\n",
    "\n",
    "  return w, errors\n"
   ]
  },
  {
   "cell_type": "code",
   "execution_count": 8,
   "metadata": {
    "colab": {
     "base_uri": "https://localhost:8080/",
     "height": 330
    },
    "id": "m0fa2MWza_jT",
    "outputId": "40ac22bf-6375-46b4-bb30-c1c4a006383c"
   },
   "outputs": [
    {
     "name": "stdout",
     "output_type": "stream",
     "text": [
      "[10. 10. 10. 10. 10. 10. 10. 10. 10. 10. 10. 10. 10. 10.]\n"
     ]
    },
    {
     "data": {
      "text/plain": [
       "<matplotlib.legend.Legend at 0x7fe5b4640310>"
      ]
     },
     "execution_count": 8,
     "metadata": {},
     "output_type": "execute_result"
    },
    {
     "data": {
      "image/png": "[encoded data removed]",
      "text/plain": [
       "<Figure size 432x288 with 1 Axes>"
      ]
     },
     "metadata": {
      "needs_background": "light"
     },
     "output_type": "display_data"
    }
   ],
   "source": [
    "import matplotlib.pyplot as plt\n",
    "\n",
    "op = Optimizer(lr=0.001, annealing_rate=0.99, batch_size=20, max_epochs=500,lambdaa=0.1)\n",
    "\n",
    "w, errors = linear_regression_gd(data_wb, target, op)\n",
    "# w,errors =gradient_descent_reg(data_wb,target,np.zeros([506,14]),0.0005,10,1000)\n",
    "plt.title('A larger mini-batch; converging smoothly but still a gap')\n",
    "plt.xlabel('number of epoches')\n",
    "plt.plot(errors, 'b', 21.89*np.ones(errors.shape[0]), 'c--')\n",
    "plt.legend(['gradient descent', 'closed-form solution'])"
   ]
  },
  {
   "cell_type": "markdown",
   "metadata": {
    "id": "8ljn7jhb3eij"
   },
   "source": [
    "# Lasso regression"
   ]
  },
  {
   "cell_type": "code",
   "execution_count": 9,
   "metadata": {
    "id": "Iz6t2L0C3c-Y"
   },
   "outputs": [],
   "source": [
    "from sklearn.model_selection import train_test_split\n",
    "\n",
    "X_train, X_test, y_train, y_test = train_test_split(data_wb,target, test_size=0.3, random_state=10)"
   ]
  },
  {
   "cell_type": "code",
   "execution_count": 10,
   "metadata": {
    "colab": {
     "base_uri": "https://localhost:8080/"
    },
    "id": "NP_8WwBj30cI",
    "outputId": "057f8fdc-ff65-4cf3-a393-3a8f53c3a545"
   },
   "outputs": [
    {
     "name": "stdout",
     "output_type": "stream",
     "text": [
      "MSE training set 26.18\n",
      "MSE test set 34.85\n"
     ]
    }
   ],
   "source": [
    "from sklearn.linear_model import Lasso\n",
    "from sklearn.metrics import mean_squared_error\n",
    "reg = Lasso(alpha=1)\n",
    "reg.fit(X_train, y_train)\n",
    "pred_train = reg.predict(X_train)\n",
    "mse_train = mean_squared_error(y_train, pred_train)\n",
    "print('MSE training set', round(mse_train, 2))\n",
    "pred = reg.predict(X_test)\n",
    "mse_test =mean_squared_error(y_test, pred)\n",
    "print('MSE test set', round(mse_test, 2))"
   ]
  },
  {
   "cell_type": "markdown",
   "metadata": {
    "id": "YbtjuNKofgDw"
   },
   "source": [
    "# Expample # 2.2"
   ]
  },
  {
   "cell_type": "code",
   "execution_count": null,
   "metadata": {
    "colab": {
     "base_uri": "https://localhost:8080/"
    },
    "id": "gLKe4Nfofe1a",
    "outputId": "1ba8d309-1c0f-4662-bac4-6fb3f3725b6d"
   },
   "outputs": [
    {
     "name": "stdout",
     "output_type": "stream",
     "text": [
      "Looking in indexes: https://pypi.org/simple, https://us-python.pkg.dev/colab-wheels/public/simple/\n",
      "Collecting python_mnist\n",
      "  Downloading python_mnist-0.7-py2.py3-none-any.whl (9.6 kB)\n",
      "Installing collected packages: python-mnist\n",
      "Successfully installed python-mnist-0.7\n"
     ]
    }
   ],
   "source": [
    "!pip install python_mnist"
   ]
  },
  {
   "cell_type": "code",
   "execution_count": null,
   "metadata": {
    "colab": {
     "base_uri": "https://localhost:8080/"
    },
    "id": "S8iPRYkM6vjy",
    "outputId": "e64010dc-de7e-49f4-c92a-f4cf7ccba1ea"
   },
   "outputs": [
    {
     "name": "stdout",
     "output_type": "stream",
     "text": [
      "(60000, 784) (60000,) (10000, 784) (10000,)\n"
     ]
    }
   ],
   "source": [
    "from mnist import MNIST\n",
    "import numpy as np\n",
    "\n",
    "mnist_loader = MNIST('/content/drive/My Drive/Colab Notebooks/MNIST')\n",
    "train_data, train_label = mnist_loader.load_training()\n",
    "test_data, test_label = mnist_loader.load_testing()\n",
    "train_data = np.array(train_data, dtype='float')/255 # norm to [0,1]\n",
    "train_label = np.array(train_label, dtype='short')\n",
    "test_data = np.array(test_data, dtype='float')/255 # norm to [0,1]\n",
    "test_label = np.array(test_label, dtype='short')\n",
    "\n",
    "#add small random noise to avoid matrix singularity\n",
    "train_data += np.random.normal(0,0.0001,train_data.shape) \n",
    "\n",
    "print(train_data.shape, train_label.shape, test_data.shape, test_label.shape)"
   ]
  },
  {
   "cell_type": "code",
   "execution_count": null,
   "metadata": {
    "colab": {
     "base_uri": "https://localhost:8080/"
    },
    "id": "GYA9wNilhOxV",
    "outputId": "c54eeadd-3545-4700-fc80-48c2df159a63"
   },
   "outputs": [
    {
     "name": "stdout",
     "output_type": "stream",
     "text": [
      "(11982, 785)\n",
      "[-1 -1 -1 ...  1 -1  1]\n",
      "(1984, 785)\n",
      "[-1 -1 -1 ... -1  1 -1]\n"
     ]
    }
   ],
   "source": [
    "# prepare digits '3' and '8' for linear regression\n",
    "\n",
    "digit_train_index = np.logical_or(train_label == 3, train_label == 8)\n",
    "X_train = train_data[digit_train_index]\n",
    "y_train = train_label[digit_train_index]\n",
    "digit_test_index = np.logical_or(test_label == 3, test_label == 8)\n",
    "X_test = test_data[digit_test_index]\n",
    "y_test = test_label[digit_test_index]\n",
    "\n",
    "# add a constant column of '1' to accomodate the bias (see the margin note on page 107)\n",
    "X_train = np.hstack((X_train, np.ones((X_train.shape[0], 1), dtype=X_train.dtype)))\n",
    "X_test = np.hstack((X_test, np.ones((X_test.shape[0], 1), dtype=X_test.dtype)))\n",
    "\n",
    "# convert labels: '3' => -1, '8' => +1\n",
    "CUTOFF = 5 # any number between '3' and '8'\n",
    "y_train = np.sign(y_train-CUTOFF)\n",
    "y_test = np.sign(y_test-CUTOFF)\n",
    "\n",
    "print(X_train.shape)\n",
    "print(y_train)\n",
    "\n",
    "print(X_test.shape)\n",
    "print(y_test)"
   ]
  },
  {
   "cell_type": "markdown",
   "metadata": {
    "id": "7De9Mt30h7Xb"
   },
   "source": [
    "# linear regression closed form\n",
    "\n"
   ]
  },
  {
   "cell_type": "code",
   "execution_count": null,
   "metadata": {
    "colab": {
     "base_uri": "https://localhost:8080/"
    },
    "id": "bLS-jEO6h3sa",
    "outputId": "99133e78-fcac-4695-f373-6a159e8490a2"
   },
   "outputs": [
    {
     "name": "stdout",
     "output_type": "stream",
     "text": [
      "mean square error on training data for the closed-form solution: 0.19526\n",
      "classification accuracy on training data for the closed-form solution: 97.10%\n",
      "mean square error on test data for the closed-form solution: 1.24126\n",
      "classification accuracy on test data for the closed-form solution: 95.87%\n"
     ]
    }
   ],
   "source": [
    "# use the closed-form solution\n",
    "\n",
    "# refer to the closed-form solution, i.e. Eq.(6.9) on page 112\n",
    "w = np.linalg.inv(X_train.T @ X_train) @ X_train.T @ y_train\n",
    "\n",
    "# calculate the mean square error and classification accuracy on the training set\n",
    "predict = X_train @ w \n",
    "error = np.sum((predict - y_train)*(predict - y_train))/X_train.shape[0]\n",
    "print(f'mean square error on training data for the closed-form solution: {error:.5f}')\n",
    "\n",
    "accuracy = np.count_nonzero(np.equal(np.sign(predict),y_train))/y_train.size*100.0\n",
    "print(f'classification accuracy on training data for the closed-form solution: {accuracy:.2f}%')\n",
    "\n",
    "# calculate the mean square error and classification accuracy on the test set\n",
    "predict = X_test @ w \n",
    "error = np.sum((predict - y_test)*(predict - y_test))/X_test.shape[0]\n",
    "print(f'mean square error on test data for the closed-form solution: {error:.5f}')\n",
    "\n",
    "accuracy = np.count_nonzero(np.equal(np.sign(predict),y_test))/y_test.size*100.0\n",
    "print(f'classification accuracy on test data for the closed-form solution: {accuracy:.2f}%')"
   ]
  },
  {
   "cell_type": "markdown",
   "metadata": {
    "id": "yGR65E9eis4B"
   },
   "source": [
    "# Ridge regression closed form\n"
   ]
  },
  {
   "cell_type": "code",
   "execution_count": null,
   "metadata": {
    "colab": {
     "base_uri": "https://localhost:8080/"
    },
    "id": "5OyR8cVaiF4G",
    "outputId": "f9392fa6-469d-4e01-dbb7-a36e83d20e49"
   },
   "outputs": [
    {
     "name": "stdout",
     "output_type": "stream",
     "text": [
      "11982 785\n",
      "mean square error on training data for the closed-form solution: 0.20013\n",
      "classification accuracy on training data for the closed-form solution: 96.79%\n",
      "mean square error on test data for the closed-form solution: 0.22012\n",
      "classification accuracy on test data for the closed-form solution: 95.97%\n"
     ]
    }
   ],
   "source": [
    "def closed_form_reg_solution(X,y,lamda): \n",
    "    '''Closed form solution for ridge regression'''\n",
    "    m,n = X.shape\n",
    "    print(m,n)\n",
    "    I = np.eye((n))\n",
    "    inr=np.linalg.inv(X.T @ X + lamda * I)@ X.T @ y\n",
    "    return inr\n",
    "    # return (inr @ X.T @ y)[:,0]\n",
    "\n",
    "lamda=1\n",
    "w=closed_form_reg_solution(X_train,y_train,lamda)\n",
    "predict = X_train @ w \n",
    "error = np.sum((predict - y_train)*(predict - y_train))/X_train.shape[0]\n",
    "print(f'mean square error on training data for the closed-form solution: {error:.5f}')\n",
    "\n",
    "accuracy = np.count_nonzero(np.equal(np.sign(predict),y_train))/y_train.size*100.0\n",
    "print(f'classification accuracy on training data for the closed-form solution: {accuracy:.2f}%')\n",
    "\n",
    "# calculate the mean square error and classification accuracy on the test set\n",
    "predict = X_test @ w \n",
    "error = np.sum((predict - y_test)*(predict - y_test))/X_test.shape[0]\n",
    "print(f'mean square error on test data for the closed-form solution: {error:.5f}')\n",
    "\n",
    "accuracy = np.count_nonzero(np.equal(np.sign(predict),y_test))/y_test.size*100.0\n",
    "print(f'classification accuracy on test data for the closed-form solution: {accuracy:.2f}%')"
   ]
  },
  {
   "cell_type": "code",
   "execution_count": null,
   "metadata": {
    "id": "VLx5TpY-p4Mc"
   },
   "outputs": [],
   "source": []
  },
  {
   "cell_type": "markdown",
   "metadata": {
    "id": "UyKDqDJ2p1nS"
   },
   "source": [
    "# Linear regression gradient descent"
   ]
  },
  {
   "cell_type": "code",
   "execution_count": null,
   "metadata": {
    "id": "g2D84zydnFFe"
   },
   "outputs": [],
   "source": [
    " # solve linear regression using gradient descent \n",
    "import numpy as np\n",
    "\n",
    "class Optimizer():\n",
    "  def __init__(self, lr, annealing_rate, batch_size, max_epochs):\n",
    "    self.lr = lr\n",
    "    self.annealing_rate = annealing_rate\n",
    "    self.batch_size = batch_size\n",
    "    self.max_epochs = max_epochs\n",
    "\n",
    "# X[N,d]: training features; y[N]: training targets; \n",
    "# X2[N,d]: test features; y2[N]: test targets;  \n",
    "# op: hyper-parameters for optimzer \n",
    "#\n",
    "# Note: X2 and y2 are not used in training\n",
    "#       but only for computting the learning curve B\n",
    "#\n",
    "def linear_regression_gd2(X, y, X2, y2, op):\n",
    "  n = X.shape[0]   # number of samples\n",
    "  w = np.zeros(X.shape[1])  # initialization\n",
    "\n",
    "  lr = op.lr\n",
    "  errorsA = np.zeros(op.max_epochs)\n",
    "  errorsB = np.zeros(op.max_epochs)\n",
    "  errorsC = np.zeros(op.max_epochs)\n",
    "\n",
    "  for epoch in range(op.max_epochs):\n",
    "    indices = np.random.permutation(n)  #randomly shuffle data indices\n",
    "    for batch_start in range(0, n, op.batch_size):\n",
    "      X_batch = X[indices[batch_start:batch_start + op.batch_size]]\n",
    "      y_batch = y[indices[batch_start:batch_start + op.batch_size]]\n",
    "\n",
    "      # vectorization to compute gradients for a whole mini-batch (see the above formula)\n",
    "      w_grad = X_batch.T @ X_batch @ w - X_batch.T @ y_batch \n",
    "\n",
    "      w -= lr * w_grad / X_batch.shape[0] \n",
    "\n",
    "    # for learning curve C\n",
    "    diff = X @ w - y  # prediction difference\n",
    "    errorsC[epoch] = np.sum(diff*diff)/n   \n",
    "\n",
    "    # for learning curve A\n",
    "    predict = np.sign(X @ w)\n",
    "    errorsA[epoch] = np.count_nonzero(np.equal(predict,y))/y.size \n",
    "\n",
    "    # for learning curve B\n",
    "    predict2 = np.sign(X2 @ w)\n",
    "    errorsB[epoch] = np.count_nonzero(np.equal(predict2,y2))/y2.size\n",
    "\n",
    "    lr *= op.annealing_rate\n",
    "    print(f'epoch={epoch}: the mean square error is {errorsC[epoch]:.3f} ({errorsA[epoch]:.3f},{errorsB[epoch]:.3f})')\n",
    "\n",
    "  return w, errorsA, errorsB, errorsC"
   ]
  },
  {
   "cell_type": "code",
   "execution_count": null,
   "metadata": {
    "colab": {
     "base_uri": "https://localhost:8080/",
     "height": 659
    },
    "id": "JUBwHnVzqBBT",
    "outputId": "f56c0230-607b-4923-ab83-df5831b51ac7"
   },
   "outputs": [
    {
     "name": "stdout",
     "output_type": "stream",
     "text": [
      "epoch=0: the mean square error is 0.398 (0.912,0.920)\n",
      "epoch=1: the mean square error is 0.309 (0.929,0.941)\n",
      "epoch=2: the mean square error is 0.279 (0.939,0.951)\n",
      "epoch=3: the mean square error is 0.263 (0.944,0.957)\n",
      "epoch=4: the mean square error is 0.254 (0.948,0.958)\n",
      "epoch=5: the mean square error is 0.248 (0.951,0.961)\n",
      "epoch=6: the mean square error is 0.244 (0.952,0.963)\n",
      "epoch=7: the mean square error is 0.240 (0.954,0.964)\n",
      "epoch=8: the mean square error is 0.237 (0.955,0.964)\n",
      "epoch=9: the mean square error is 0.236 (0.956,0.963)\n",
      "epoch=10: the mean square error is 0.234 (0.957,0.964)\n",
      "epoch=11: the mean square error is 0.232 (0.957,0.965)\n",
      "epoch=12: the mean square error is 0.231 (0.958,0.963)\n",
      "epoch=13: the mean square error is 0.230 (0.958,0.963)\n",
      "epoch=14: the mean square error is 0.229 (0.959,0.964)\n",
      "epoch=15: the mean square error is 0.228 (0.960,0.964)\n",
      "epoch=16: the mean square error is 0.227 (0.960,0.964)\n",
      "epoch=17: the mean square error is 0.226 (0.959,0.963)\n",
      "epoch=18: the mean square error is 0.225 (0.960,0.962)\n",
      "epoch=19: the mean square error is 0.225 (0.960,0.963)\n"
     ]
    },
    {
     "data": {
      "text/plain": [
       "<matplotlib.legend.Legend at 0x7f9eead33390>"
      ]
     },
     "execution_count": 17,
     "metadata": {},
     "output_type": "execute_result"
    },
    {
     "data": {
      "image/png": "[encoded data removed]",
      "text/plain": [
       "<Figure size 432x288 with 2 Axes>"
      ]
     },
     "metadata": {
      "needs_background": "light"
     },
     "output_type": "display_data"
    }
   ],
   "source": [
    "import matplotlib.pyplot as plt\n",
    "\n",
    "op = Optimizer(lr=0.001, annealing_rate=0.99, batch_size=50, max_epochs=20)\n",
    "\n",
    "w, A, B, C = linear_regression_gd2(X_train, y_train, X_test, y_test, op)\n",
    "\n",
    "fig, ax = plt.subplots(2)\n",
    "fig.suptitle('monitoring three learning curves (A, B, C)')\n",
    "ax[0].plot(C, 'b', 0.196*np.ones(C.shape[0]), 'c--')\n",
    "ax[0].legend(['curve C', 'closed-form solution'])\n",
    "\n",
    "ax[1].plot(A, 'b', B, 'r')\n",
    "ax[1].legend(['curve A', 'curve B'])"
   ]
  },
  {
   "cell_type": "markdown",
   "metadata": {
    "id": "SvtbnK1gDs3T"
   },
   "source": [
    "# Ridge regression using gradient descent"
   ]
  },
  {
   "cell_type": "code",
   "execution_count": null,
   "metadata": {
    "id": "3wxZl4caqOiA"
   },
   "outputs": [],
   "source": [
    " # solve ridge regression using gradient descent \n",
    "import numpy as np\n",
    "\n",
    "class Optimizer():\n",
    "  def __init__(self, lr, annealing_rate, batch_size, max_epochs,lamda):\n",
    "    self.lr = lr\n",
    "    self.annealing_rate = annealing_rate\n",
    "    self.batch_size = batch_size\n",
    "    self.max_epochs = max_epochs\n",
    "    self.lamda = lamda\n",
    "# X[N,d]: training features; y[N]: training targets; \n",
    "# X2[N,d]: test features; y2[N]: test targets;  \n",
    "# op: hyper-parameters for optimzer \n",
    "#\n",
    "# Note: X2 and y2 are not used in training\n",
    "#       but only for computting the learning curve B\n",
    "#\n",
    "def linear_regression_gd2(X, y, X2, y2, op):\n",
    "  n = X.shape[0]   # number of samples\n",
    "  w = np.zeros(X.shape[1])  # initialization\n",
    "\n",
    "  lr = op.lr\n",
    "  lambdaa=op.lamda\n",
    "  errorsA = np.zeros(op.max_epochs)\n",
    "  errorsB = np.zeros(op.max_epochs)\n",
    "  errorsC = np.zeros(op.max_epochs)\n",
    "\n",
    "  for epoch in range(op.max_epochs):\n",
    "    indices = np.random.permutation(n)  #randomly shuffle data indices\n",
    "    for batch_start in range(0, n, op.batch_size):\n",
    "      X_batch = X[indices[batch_start:batch_start + op.batch_size]]\n",
    "      y_batch = y[indices[batch_start:batch_start + op.batch_size]]\n",
    "\n",
    "      # vectorization to compute gradients for a whole mini-batch (see the above formula)\n",
    "    \n",
    "      w_grad = X_batch.T @  X_batch @ w -  X_batch.T  @  y_batch - w*lambdaa\n",
    "      w -= lr * w_grad / X_batch.shape[0] \n",
    "\n",
    "    # for learning curve C\n",
    "    diff = X @ w - y  # prediction difference\n",
    "    errorsC[epoch] = np.sum(diff*diff)/n   \n",
    "\n",
    "    # for learning curve A\n",
    "    predict = np.sign(X @ w)\n",
    "    errorsA[epoch] = np.count_nonzero(np.equal(predict,y))/y.size \n",
    "\n",
    "    # for learning curve B\n",
    "    predict2 = np.sign(X2 @ w)\n",
    "    errorsB[epoch] = np.count_nonzero(np.equal(predict2,y2))/y2.size\n",
    "\n",
    "    lr *= op.annealing_rate\n",
    "    print(f'epoch={epoch}: the mean square error is {errorsC[epoch]:.3f} ({errorsA[epoch]:.3f},{errorsB[epoch]:.3f})')\n",
    "\n",
    "  return w, errorsA, errorsB, errorsC"
   ]
  },
  {
   "cell_type": "code",
   "execution_count": null,
   "metadata": {
    "colab": {
     "base_uri": "https://localhost:8080/",
     "height": 659
    },
    "id": "Om9Zw9eHqePV",
    "outputId": "0553bd76-e93f-4d94-ac82-72715b7413b8"
   },
   "outputs": [
    {
     "name": "stdout",
     "output_type": "stream",
     "text": [
      "epoch=0: the mean square error is 0.398 (0.913,0.920)\n",
      "epoch=1: the mean square error is 0.308 (0.929,0.943)\n",
      "epoch=2: the mean square error is 0.278 (0.939,0.952)\n",
      "epoch=3: the mean square error is 0.263 (0.944,0.957)\n",
      "epoch=4: the mean square error is 0.254 (0.948,0.958)\n",
      "epoch=5: the mean square error is 0.248 (0.951,0.959)\n",
      "epoch=6: the mean square error is 0.243 (0.953,0.962)\n",
      "epoch=7: the mean square error is 0.240 (0.955,0.963)\n",
      "epoch=8: the mean square error is 0.237 (0.955,0.963)\n",
      "epoch=9: the mean square error is 0.235 (0.956,0.964)\n",
      "epoch=10: the mean square error is 0.233 (0.957,0.964)\n",
      "epoch=11: the mean square error is 0.232 (0.958,0.964)\n",
      "epoch=12: the mean square error is 0.230 (0.958,0.964)\n",
      "epoch=13: the mean square error is 0.229 (0.958,0.963)\n",
      "epoch=14: the mean square error is 0.228 (0.959,0.963)\n",
      "epoch=15: the mean square error is 0.227 (0.960,0.964)\n",
      "epoch=16: the mean square error is 0.226 (0.959,0.964)\n",
      "epoch=17: the mean square error is 0.226 (0.960,0.965)\n",
      "epoch=18: the mean square error is 0.225 (0.960,0.964)\n",
      "epoch=19: the mean square error is 0.224 (0.960,0.963)\n"
     ]
    },
    {
     "data": {
      "text/plain": [
       "<matplotlib.legend.Legend at 0x7f9ee71b9f50>"
      ]
     },
     "execution_count": 19,
     "metadata": {},
     "output_type": "execute_result"
    },
    {
     "data": {
      "image/png": "[encoded data removed]",
      "text/plain": [
       "<Figure size 432x288 with 2 Axes>"
      ]
     },
     "metadata": {
      "needs_background": "light"
     },
     "output_type": "display_data"
    }
   ],
   "source": [
    "import matplotlib.pyplot as plt\n",
    "\n",
    "op = Optimizer(lr=0.001, annealing_rate=0.99, batch_size=50, max_epochs=20,lamda=0.5)\n",
    "\n",
    "w, A, B, C = linear_regression_gd2(X_train, y_train, X_test, y_test, op)\n",
    "\n",
    "fig, ax = plt.subplots(2)\n",
    "fig.suptitle('monitoring three learning curves (A, B, C)')\n",
    "ax[0].plot(C, 'b', 0.196*np.ones(C.shape[0]), 'c--')\n",
    "ax[0].legend(['curve C', 'closed-form solution'])\n",
    "\n",
    "ax[1].plot(A, 'b', B, 'r')\n",
    "ax[1].legend(['curve A', 'curve B'])"
   ]
  },
  {
   "cell_type": "markdown",
   "metadata": {
    "id": "4ibIcXrAD-Bz"
   },
   "source": [
    "# Lasso regression example # 2.2\n"
   ]
  },
  {
   "cell_type": "code",
   "execution_count": null,
   "metadata": {
    "colab": {
     "base_uri": "https://localhost:8080/"
    },
    "id": "offXv4iBCViy",
    "outputId": "fc01244e-9486-45ba-da42-12eb36fb6c9b"
   },
   "outputs": [
    {
     "name": "stdout",
     "output_type": "stream",
     "text": [
      "MSE training set 1.0\n",
      "MSE test set 1.0\n"
     ]
    }
   ],
   "source": [
    "from sklearn.linear_model import Lasso\n",
    "from sklearn.metrics import mean_squared_error\n",
    "reg = Lasso(alpha=1)\n",
    "reg.fit(X_train, y_train)\n",
    "pred_train = reg.predict(X_train)\n",
    "mse_train = mean_squared_error(y_train, pred_train)\n",
    "print('MSE training set', round(mse_train, 2))\n",
    "pred = reg.predict(X_test)\n",
    "mse_test =mean_squared_error(y_test, pred)\n",
    "print('MSE test set', round(mse_test, 2))"
   ]
  }
 ],
 "metadata": {
  "colab": {
   "provenance": []
  },
  "kernelspec": {
   "display_name": "Python 3",
   "language": "python",
   "name": "python3"
  },
  "language_info": {
   "codemirror_mode": {
    "name": "ipython",
    "version": 3
   },
   "file_extension": ".py",
   "mimetype": "text/x-python",
   "name": "python",
   "nbconvert_exporter": "python",
   "pygments_lexer": "ipython3",
   "version": "3.7.4"
  }
 },
 "nbformat": 4,
 "nbformat_minor": 1
}
